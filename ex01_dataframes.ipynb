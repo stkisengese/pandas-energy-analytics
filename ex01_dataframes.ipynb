{
 "cells": [
  {
   "cell_type": "code",
   "execution_count": 1,
   "id": "3d858c6b-fcb0-4411-bab9-d9940261394e",
   "metadata": {},
   "outputs": [],
   "source": [
    "# EXERCISE 1: Creating DataFrame"
   ]
  },
  {
   "cell_type": "code",
   "execution_count": 2,
   "id": "8af8b3df-3271-45b6-b8af-2b15603a23e4",
   "metadata": {},
   "outputs": [],
   "source": [
    "import pandas as pd\n",
    "import numpy as np"
   ]
  },
  {
   "cell_type": "code",
   "execution_count": 6,
   "id": "74a62653-146b-476e-a600-03acb6f88baa",
   "metadata": {},
   "outputs": [
    {
     "data": {
      "text/html": [
       "<div>\n",
       "<style scoped>\n",
       "    .dataframe tbody tr th:only-of-type {\n",
       "        vertical-align: middle;\n",
       "    }\n",
       "\n",
       "    .dataframe tbody tr th {\n",
       "        vertical-align: top;\n",
       "    }\n",
       "\n",
       "    .dataframe thead th {\n",
       "        text-align: right;\n",
       "    }\n",
       "</style>\n",
       "<table border=\"1\" class=\"dataframe\">\n",
       "  <thead>\n",
       "    <tr style=\"text-align: right;\">\n",
       "      <th></th>\n",
       "      <th>color</th>\n",
       "      <th>list</th>\n",
       "      <th>number</th>\n",
       "    </tr>\n",
       "  </thead>\n",
       "  <tbody>\n",
       "    <tr>\n",
       "      <th>1</th>\n",
       "      <td>Blue</td>\n",
       "      <td>[1, 2]</td>\n",
       "      <td>1.1</td>\n",
       "    </tr>\n",
       "    <tr>\n",
       "      <th>3</th>\n",
       "      <td>Red</td>\n",
       "      <td>[3, 4]</td>\n",
       "      <td>2.2</td>\n",
       "    </tr>\n",
       "    <tr>\n",
       "      <th>5</th>\n",
       "      <td>Pink</td>\n",
       "      <td>[5, 6]</td>\n",
       "      <td>3.3</td>\n",
       "    </tr>\n",
       "    <tr>\n",
       "      <th>7</th>\n",
       "      <td>Grey</td>\n",
       "      <td>[7, 8]</td>\n",
       "      <td>4.4</td>\n",
       "    </tr>\n",
       "    <tr>\n",
       "      <th>9</th>\n",
       "      <td>Black</td>\n",
       "      <td>[9, 10]</td>\n",
       "      <td>5.5</td>\n",
       "    </tr>\n",
       "  </tbody>\n",
       "</table>\n",
       "</div>"
      ],
      "text/plain": [
       "   color     list number\n",
       "1   Blue   [1, 2]    1.1\n",
       "3    Red   [3, 4]    2.2\n",
       "5   Pink   [5, 6]    3.3\n",
       "7   Grey   [7, 8]    4.4\n",
       "9  Black  [9, 10]    5.5"
      ]
     },
     "execution_count": 6,
     "metadata": {},
     "output_type": "execute_result"
    }
   ],
   "source": [
    "# Create DataFrame from NUmpy array\n",
    "data_array = np.array([\n",
    "    ['Blue', [1, 2], 1.1],\n",
    "    ['Red', [3, 4], 2.2],\n",
    "    ['Pink', [5, 6], 3.3],\n",
    "    ['Grey', [7, 8], 4.4],\n",
    "    ['Black', [9, 10], 5.5]\n",
    "], dtype=object)\n",
    "\n",
    "df_from_array = pd.DataFrame(\n",
    "    data_array,\n",
    "    index=[1, 3, 5, 7, 9],\n",
    "    columns=['color', 'list', 'number']\n",
    ")\n",
    "df_from_array"
   ]
  },
  {
   "cell_type": "code",
   "execution_count": 8,
   "id": "3c8674f5-5fc9-4fbb-bf11-cba12943820c",
   "metadata": {},
   "outputs": [
    {
     "data": {
      "text/html": [
       "<div>\n",
       "<style scoped>\n",
       "    .dataframe tbody tr th:only-of-type {\n",
       "        vertical-align: middle;\n",
       "    }\n",
       "\n",
       "    .dataframe tbody tr th {\n",
       "        vertical-align: top;\n",
       "    }\n",
       "\n",
       "    .dataframe thead th {\n",
       "        text-align: right;\n",
       "    }\n",
       "</style>\n",
       "<table border=\"1\" class=\"dataframe\">\n",
       "  <thead>\n",
       "    <tr style=\"text-align: right;\">\n",
       "      <th></th>\n",
       "      <th>color</th>\n",
       "      <th>list</th>\n",
       "      <th>number</th>\n",
       "    </tr>\n",
       "  </thead>\n",
       "  <tbody>\n",
       "    <tr>\n",
       "      <th>1</th>\n",
       "      <td>Blue</td>\n",
       "      <td>[1, 2]</td>\n",
       "      <td>1.1</td>\n",
       "    </tr>\n",
       "    <tr>\n",
       "      <th>3</th>\n",
       "      <td>Red</td>\n",
       "      <td>[3, 4]</td>\n",
       "      <td>2.2</td>\n",
       "    </tr>\n",
       "    <tr>\n",
       "      <th>5</th>\n",
       "      <td>Pink</td>\n",
       "      <td>[5, 6]</td>\n",
       "      <td>3.3</td>\n",
       "    </tr>\n",
       "    <tr>\n",
       "      <th>7</th>\n",
       "      <td>Grey</td>\n",
       "      <td>[7, 8]</td>\n",
       "      <td>4.4</td>\n",
       "    </tr>\n",
       "    <tr>\n",
       "      <th>9</th>\n",
       "      <td>Black</td>\n",
       "      <td>[9, 10]</td>\n",
       "      <td>5.5</td>\n",
       "    </tr>\n",
       "  </tbody>\n",
       "</table>\n",
       "</div>"
      ],
      "text/plain": [
       "   color     list  number\n",
       "1   Blue   [1, 2]     1.1\n",
       "3    Red   [3, 4]     2.2\n",
       "5   Pink   [5, 6]     3.3\n",
       "7   Grey   [7, 8]     4.4\n",
       "9  Black  [9, 10]     5.5"
      ]
     },
     "execution_count": 8,
     "metadata": {},
     "output_type": "execute_result"
    }
   ],
   "source": [
    "# Method 2: From Pandas Series\n",
    "color_series = pd.Series(['Blue', 'Red', 'Pink', 'Grey', 'Black'], index=[1, 3, 5, 7, 9])\n",
    "list_series = pd.Series([[1, 2], [3, 4], [5, 6], [7, 8], [9, 10]], index=[1, 3, 5, 7, 9])\n",
    "number_series = pd.Series([1.1, 2.2, 3.3, 4.4, 5.5], index=[1, 3, 5, 7, 9])\n",
    "\n",
    "df_from_series = pd.DataFrame({\n",
    "    'color': color_series,\n",
    "    'list': list_series,\n",
    "    'number': number_series\n",
    "})\n",
    "\n",
    "df_from_series"
   ]
  },
  {
   "cell_type": "code",
   "execution_count": null,
   "id": "7829a9b7-6ea4-4e44-a6d4-0c1c75f6de0a",
   "metadata": {},
   "outputs": [],
   "source": []
  }
 ],
 "metadata": {
  "kernelspec": {
   "display_name": "Python 3 (ipykernel)",
   "language": "python",
   "name": "python3"
  },
  "language_info": {
   "codemirror_mode": {
    "name": "ipython",
    "version": 3
   },
   "file_extension": ".py",
   "mimetype": "text/x-python",
   "name": "python",
   "nbconvert_exporter": "python",
   "pygments_lexer": "ipython3",
   "version": "3.12.11"
  }
 },
 "nbformat": 4,
 "nbformat_minor": 5
}
