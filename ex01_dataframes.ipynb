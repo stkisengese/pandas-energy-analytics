{
 "cells": [
  {
   "cell_type": "code",
   "execution_count": 1,
   "id": "3d858c6b-fcb0-4411-bab9-d9940261394e",
   "metadata": {},
   "outputs": [],
   "source": [
    "# EXERCISE 1: Creating DataFrame"
   ]
  },
  {
   "cell_type": "code",
   "execution_count": 2,
   "id": "8af8b3df-3271-45b6-b8af-2b15603a23e4",
   "metadata": {},
   "outputs": [],
   "source": [
    "import pandas as pd\n",
    "import numpy as np"
   ]
  },
  {
   "cell_type": "code",
   "execution_count": 6,
   "id": "74a62653-146b-476e-a600-03acb6f88baa",
   "metadata": {},
   "outputs": [
    {
     "data": {
      "text/html": [
       "<div>\n",
       "<style scoped>\n",
       "    .dataframe tbody tr th:only-of-type {\n",
       "        vertical-align: middle;\n",
       "    }\n",
       "\n",
       "    .dataframe tbody tr th {\n",
       "        vertical-align: top;\n",
       "    }\n",
       "\n",
       "    .dataframe thead th {\n",
       "        text-align: right;\n",
       "    }\n",
       "</style>\n",
       "<table border=\"1\" class=\"dataframe\">\n",
       "  <thead>\n",
       "    <tr style=\"text-align: right;\">\n",
       "      <th></th>\n",
       "      <th>color</th>\n",
       "      <th>list</th>\n",
       "      <th>number</th>\n",
       "    </tr>\n",
       "  </thead>\n",
       "  <tbody>\n",
       "    <tr>\n",
       "      <th>1</th>\n",
       "      <td>Blue</td>\n",
       "      <td>[1, 2]</td>\n",
       "      <td>1.1</td>\n",
       "    </tr>\n",
       "    <tr>\n",
       "      <th>3</th>\n",
       "      <td>Red</td>\n",
       "      <td>[3, 4]</td>\n",
       "      <td>2.2</td>\n",
       "    </tr>\n",
       "    <tr>\n",
       "      <th>5</th>\n",
       "      <td>Pink</td>\n",
       "      <td>[5, 6]</td>\n",
       "      <td>3.3</td>\n",
       "    </tr>\n",
       "    <tr>\n",
       "      <th>7</th>\n",
       "      <td>Grey</td>\n",
       "      <td>[7, 8]</td>\n",
       "      <td>4.4</td>\n",
       "    </tr>\n",
       "    <tr>\n",
       "      <th>9</th>\n",
       "      <td>Black</td>\n",
       "      <td>[9, 10]</td>\n",
       "      <td>5.5</td>\n",
       "    </tr>\n",
       "  </tbody>\n",
       "</table>\n",
       "</div>"
      ],
      "text/plain": [
       "   color     list number\n",
       "1   Blue   [1, 2]    1.1\n",
       "3    Red   [3, 4]    2.2\n",
       "5   Pink   [5, 6]    3.3\n",
       "7   Grey   [7, 8]    4.4\n",
       "9  Black  [9, 10]    5.5"
      ]
     },
     "execution_count": 6,
     "metadata": {},
     "output_type": "execute_result"
    }
   ],
   "source": [
    "# Create DataFrame from NUmpy array\n",
    "data_array = np.array([\n",
    "    ['Blue', [1, 2], 1.1],\n",
    "    ['Red', [3, 4], 2.2],\n",
    "    ['Pink', [5, 6], 3.3],\n",
    "    ['Grey', [7, 8], 4.4],\n",
    "    ['Black', [9, 10], 5.5]\n",
    "], dtype=object)\n",
    "\n",
    "df_from_array = pd.DataFrame(\n",
    "    data_array,\n",
    "    index=[1, 3, 5, 7, 9],\n",
    "    columns=['color', 'list', 'number']\n",
    ")\n",
    "df_from_array"
   ]
  },
  {
   "cell_type": "code",
   "execution_count": 8,
   "id": "3c8674f5-5fc9-4fbb-bf11-cba12943820c",
   "metadata": {},
   "outputs": [
    {
     "data": {
      "text/html": [
       "<div>\n",
       "<style scoped>\n",
       "    .dataframe tbody tr th:only-of-type {\n",
       "        vertical-align: middle;\n",
       "    }\n",
       "\n",
       "    .dataframe tbody tr th {\n",
       "        vertical-align: top;\n",
       "    }\n",
       "\n",
       "    .dataframe thead th {\n",
       "        text-align: right;\n",
       "    }\n",
       "</style>\n",
       "<table border=\"1\" class=\"dataframe\">\n",
       "  <thead>\n",
       "    <tr style=\"text-align: right;\">\n",
       "      <th></th>\n",
       "      <th>color</th>\n",
       "      <th>list</th>\n",
       "      <th>number</th>\n",
       "    </tr>\n",
       "  </thead>\n",
       "  <tbody>\n",
       "    <tr>\n",
       "      <th>1</th>\n",
       "      <td>Blue</td>\n",
       "      <td>[1, 2]</td>\n",
       "      <td>1.1</td>\n",
       "    </tr>\n",
       "    <tr>\n",
       "      <th>3</th>\n",
       "      <td>Red</td>\n",
       "      <td>[3, 4]</td>\n",
       "      <td>2.2</td>\n",
       "    </tr>\n",
       "    <tr>\n",
       "      <th>5</th>\n",
       "      <td>Pink</td>\n",
       "      <td>[5, 6]</td>\n",
       "      <td>3.3</td>\n",
       "    </tr>\n",
       "    <tr>\n",
       "      <th>7</th>\n",
       "      <td>Grey</td>\n",
       "      <td>[7, 8]</td>\n",
       "      <td>4.4</td>\n",
       "    </tr>\n",
       "    <tr>\n",
       "      <th>9</th>\n",
       "      <td>Black</td>\n",
       "      <td>[9, 10]</td>\n",
       "      <td>5.5</td>\n",
       "    </tr>\n",
       "  </tbody>\n",
       "</table>\n",
       "</div>"
      ],
      "text/plain": [
       "   color     list  number\n",
       "1   Blue   [1, 2]     1.1\n",
       "3    Red   [3, 4]     2.2\n",
       "5   Pink   [5, 6]     3.3\n",
       "7   Grey   [7, 8]     4.4\n",
       "9  Black  [9, 10]     5.5"
      ]
     },
     "execution_count": 8,
     "metadata": {},
     "output_type": "execute_result"
    }
   ],
   "source": [
    "# Method 2: From Pandas Series\n",
    "color_series = pd.Series(['Blue', 'Red', 'Pink', 'Grey', 'Black'], index=[1, 3, 5, 7, 9])\n",
    "list_series = pd.Series([[1, 2], [3, 4], [5, 6], [7, 8], [9, 10]], index=[1, 3, 5, 7, 9])\n",
    "number_series = pd.Series([1.1, 2.2, 3.3, 4.4, 5.5], index=[1, 3, 5, 7, 9])\n",
    "\n",
    "df_from_series = pd.DataFrame({\n",
    "    'color': color_series,\n",
    "    'list': list_series,\n",
    "    'number': number_series\n",
    "})\n",
    "\n",
    "df_from_series"
   ]
  },
  {
   "cell_type": "code",
   "execution_count": 11,
   "id": "7829a9b7-6ea4-4e44-a6d4-0c1c75f6de0a",
   "metadata": {},
   "outputs": [
    {
     "data": {
      "text/html": [
       "<div>\n",
       "<style scoped>\n",
       "    .dataframe tbody tr th:only-of-type {\n",
       "        vertical-align: middle;\n",
       "    }\n",
       "\n",
       "    .dataframe tbody tr th {\n",
       "        vertical-align: top;\n",
       "    }\n",
       "\n",
       "    .dataframe thead th {\n",
       "        text-align: right;\n",
       "    }\n",
       "</style>\n",
       "<table border=\"1\" class=\"dataframe\">\n",
       "  <thead>\n",
       "    <tr style=\"text-align: right;\">\n",
       "      <th></th>\n",
       "      <th>color</th>\n",
       "      <th>list</th>\n",
       "      <th>number</th>\n",
       "    </tr>\n",
       "  </thead>\n",
       "  <tbody>\n",
       "    <tr>\n",
       "      <th>1</th>\n",
       "      <td>Blue</td>\n",
       "      <td>[1, 2]</td>\n",
       "      <td>1.1</td>\n",
       "    </tr>\n",
       "    <tr>\n",
       "      <th>3</th>\n",
       "      <td>Red</td>\n",
       "      <td>[3, 4]</td>\n",
       "      <td>2.2</td>\n",
       "    </tr>\n",
       "    <tr>\n",
       "      <th>5</th>\n",
       "      <td>Pink</td>\n",
       "      <td>[5, 6]</td>\n",
       "      <td>3.3</td>\n",
       "    </tr>\n",
       "    <tr>\n",
       "      <th>7</th>\n",
       "      <td>Grey</td>\n",
       "      <td>[7, 8]</td>\n",
       "      <td>4.4</td>\n",
       "    </tr>\n",
       "    <tr>\n",
       "      <th>9</th>\n",
       "      <td>Black</td>\n",
       "      <td>[9, 10]</td>\n",
       "      <td>5.5</td>\n",
       "    </tr>\n",
       "  </tbody>\n",
       "</table>\n",
       "</div>"
      ],
      "text/plain": [
       "   color     list  number\n",
       "1   Blue   [1, 2]     1.1\n",
       "3    Red   [3, 4]     2.2\n",
       "5   Pink   [5, 6]     3.3\n",
       "7   Grey   [7, 8]     4.4\n",
       "9  Black  [9, 10]     5.5"
      ]
     },
     "execution_count": 11,
     "metadata": {},
     "output_type": "execute_result"
    }
   ],
   "source": [
    "# Data as specified\n",
    "data = {\n",
    "    'color': ['Blue', 'Red', 'Pink', 'Grey', 'Black'],\n",
    "    'list': [[1, 2], [3, 4], [5, 6], [7, 8], [9, 10]],\n",
    "    'number': [1.1, 2.2, 3.3, 4.4, 5.5]\n",
    "}\n",
    "index = [1, 3, 5, 7, 9]\n",
    "\n",
    "# Method 3: From dictionary\n",
    "df1 = pd.DataFrame(data, index=index)\n",
    "df1"
   ]
  },
  {
   "cell_type": "code",
   "execution_count": 19,
   "id": "ffbddfb3-a309-41de-9921-a8cefc9016a0",
   "metadata": {},
   "outputs": [],
   "source": [
    "# 1. Check index\n",
    "assert df_from_series.index.tolist() == [1, 3, 5, 7, 9], \"Index is incorrect!\"\n",
    "assert df_from_array.index.tolist() == [1, 3, 5, 7, 9], \"Index is incorrect!\""
   ]
  },
  {
   "cell_type": "code",
   "execution_count": 26,
   "id": "33dc5c82-5cc9-4a43-9f66-9349d66bc2bb",
   "metadata": {},
   "outputs": [
    {
     "name": "stdout",
     "output_type": "stream",
     "text": [
      "Column types (should all be pandas Series):\n",
      "color: <class 'pandas.core.series.Series'>\n",
      "list: <class 'pandas.core.series.Series'>\n",
      "number: <class 'pandas.core.series.Series'>\n"
     ]
    }
   ],
   "source": [
    "# 2. Check column types (each column is a Series)\n",
    "print(\"Column types (should all be pandas Series):\")\n",
    "for col in df_from_series.columns:\n",
    "    print(f\"{col}: {type(df_from_series[col])}\")"
   ]
  },
  {
   "cell_type": "code",
   "execution_count": null,
   "id": "bc0bb2ac-4da2-4490-af7d-588430e8c077",
   "metadata": {},
   "outputs": [],
   "source": []
  },
  {
   "cell_type": "code",
   "execution_count": 25,
   "id": "77278f59-a320-48bc-bba6-ca8e4484ff0f",
   "metadata": {},
   "outputs": [
    {
     "name": "stdout",
     "output_type": "stream",
     "text": [
      "\n",
      "Type of first values:\n",
      "color: <class 'str'>\n",
      "list:  <class 'list'>\n",
      "number: <class 'numpy.float64'>\n"
     ]
    }
   ],
   "source": [
    "print(\"\\nType of first values:\")\n",
    "print(f\"color: {type(df1['color'].iloc[0])}\")\n",
    "print(f\"list:  {type(df1['list'].iloc[0])}\")\n",
    "print(f\"number: {type(df1['number'].iloc[0])}\")"
   ]
  },
  {
   "cell_type": "code",
   "execution_count": null,
   "id": "7bd79dbf-2fbe-4f39-9fe0-a0d387833838",
   "metadata": {},
   "outputs": [],
   "source": []
  }
 ],
 "metadata": {
  "kernelspec": {
   "display_name": "Python 3 (ipykernel)",
   "language": "python",
   "name": "python3"
  },
  "language_info": {
   "codemirror_mode": {
    "name": "ipython",
    "version": 3
   },
   "file_extension": ".py",
   "mimetype": "text/x-python",
   "name": "python",
   "nbconvert_exporter": "python",
   "pygments_lexer": "ipython3",
   "version": "3.12.11"
  }
 },
 "nbformat": 4,
 "nbformat_minor": 5
}
