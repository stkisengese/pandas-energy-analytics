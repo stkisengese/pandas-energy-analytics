{
 "cells": [
  {
   "cell_type": "code",
   "execution_count": 1,
   "id": "7cd92dbf-7148-4800-8157-bc50bec253d3",
   "metadata": {},
   "outputs": [],
   "source": [
    "# Exercise 2: Electric Power consumption"
   ]
  },
  {
   "cell_type": "code",
   "execution_count": 2,
   "id": "5c65c891-cea1-4eda-900d-7a193fb39558",
   "metadata": {},
   "outputs": [],
   "source": [
    "import pandas as pd"
   ]
  },
  {
   "cell_type": "code",
   "execution_count": 3,
   "id": "e20de08e-dd44-4cc2-b002-02f57b11c759",
   "metadata": {},
   "outputs": [
    {
     "data": {
      "text/plain": [
       "'2.3.2'"
      ]
     },
     "execution_count": 3,
     "metadata": {},
     "output_type": "execute_result"
    }
   ],
   "source": [
    "pd.__version__"
   ]
  },
  {
   "cell_type": "code",
   "execution_count": 4,
   "id": "ea372e2a-90fd-4c60-9131-6d4d826aac2f",
   "metadata": {},
   "outputs": [],
   "source": [
    "# Load data set\n",
    "def load_power_data():\n",
    "    df = pd.read_csv('household_power_consumption.txt',\n",
    "                      sep=';', \n",
    "                      low_memory=False,\n",
    "                    # parse_dates={'DateTime': ['Date']},\n",
    "                      na_values='?')\n",
    "    return df"
   ]
  },
  {
   "cell_type": "code",
   "execution_count": 5,
   "id": "0d678e0c-aab6-425e-8afb-4c07b45d5cd3",
   "metadata": {},
   "outputs": [
    {
     "data": {
      "text/html": [
       "<div>\n",
       "<style scoped>\n",
       "    .dataframe tbody tr th:only-of-type {\n",
       "        vertical-align: middle;\n",
       "    }\n",
       "\n",
       "    .dataframe tbody tr th {\n",
       "        vertical-align: top;\n",
       "    }\n",
       "\n",
       "    .dataframe thead th {\n",
       "        text-align: right;\n",
       "    }\n",
       "</style>\n",
       "<table border=\"1\" class=\"dataframe\">\n",
       "  <thead>\n",
       "    <tr style=\"text-align: right;\">\n",
       "      <th></th>\n",
       "      <th>Date</th>\n",
       "      <th>Time</th>\n",
       "      <th>Global_active_power</th>\n",
       "      <th>Global_reactive_power</th>\n",
       "      <th>Voltage</th>\n",
       "      <th>Global_intensity</th>\n",
       "      <th>Sub_metering_1</th>\n",
       "      <th>Sub_metering_2</th>\n",
       "      <th>Sub_metering_3</th>\n",
       "    </tr>\n",
       "  </thead>\n",
       "  <tbody>\n",
       "    <tr>\n",
       "      <th>0</th>\n",
       "      <td>16/12/2006</td>\n",
       "      <td>17:24:00</td>\n",
       "      <td>4.216</td>\n",
       "      <td>0.418</td>\n",
       "      <td>234.84</td>\n",
       "      <td>18.4</td>\n",
       "      <td>0.0</td>\n",
       "      <td>1.0</td>\n",
       "      <td>17.0</td>\n",
       "    </tr>\n",
       "    <tr>\n",
       "      <th>1</th>\n",
       "      <td>16/12/2006</td>\n",
       "      <td>17:25:00</td>\n",
       "      <td>5.360</td>\n",
       "      <td>0.436</td>\n",
       "      <td>233.63</td>\n",
       "      <td>23.0</td>\n",
       "      <td>0.0</td>\n",
       "      <td>1.0</td>\n",
       "      <td>16.0</td>\n",
       "    </tr>\n",
       "    <tr>\n",
       "      <th>2</th>\n",
       "      <td>16/12/2006</td>\n",
       "      <td>17:26:00</td>\n",
       "      <td>5.374</td>\n",
       "      <td>0.498</td>\n",
       "      <td>233.29</td>\n",
       "      <td>23.0</td>\n",
       "      <td>0.0</td>\n",
       "      <td>2.0</td>\n",
       "      <td>17.0</td>\n",
       "    </tr>\n",
       "    <tr>\n",
       "      <th>3</th>\n",
       "      <td>16/12/2006</td>\n",
       "      <td>17:27:00</td>\n",
       "      <td>5.388</td>\n",
       "      <td>0.502</td>\n",
       "      <td>233.74</td>\n",
       "      <td>23.0</td>\n",
       "      <td>0.0</td>\n",
       "      <td>1.0</td>\n",
       "      <td>17.0</td>\n",
       "    </tr>\n",
       "    <tr>\n",
       "      <th>4</th>\n",
       "      <td>16/12/2006</td>\n",
       "      <td>17:28:00</td>\n",
       "      <td>3.666</td>\n",
       "      <td>0.528</td>\n",
       "      <td>235.68</td>\n",
       "      <td>15.8</td>\n",
       "      <td>0.0</td>\n",
       "      <td>1.0</td>\n",
       "      <td>17.0</td>\n",
       "    </tr>\n",
       "    <tr>\n",
       "      <th>...</th>\n",
       "      <td>...</td>\n",
       "      <td>...</td>\n",
       "      <td>...</td>\n",
       "      <td>...</td>\n",
       "      <td>...</td>\n",
       "      <td>...</td>\n",
       "      <td>...</td>\n",
       "      <td>...</td>\n",
       "      <td>...</td>\n",
       "    </tr>\n",
       "    <tr>\n",
       "      <th>131281</th>\n",
       "      <td>31/1/2007</td>\n",
       "      <td>07:22:00</td>\n",
       "      <td>0.700</td>\n",
       "      <td>0.136</td>\n",
       "      <td>240.84</td>\n",
       "      <td>3.0</td>\n",
       "      <td>0.0</td>\n",
       "      <td>0.0</td>\n",
       "      <td>0.0</td>\n",
       "    </tr>\n",
       "    <tr>\n",
       "      <th>131282</th>\n",
       "      <td>31/1/2007</td>\n",
       "      <td>07:23:00</td>\n",
       "      <td>0.698</td>\n",
       "      <td>0.134</td>\n",
       "      <td>240.81</td>\n",
       "      <td>3.0</td>\n",
       "      <td>0.0</td>\n",
       "      <td>0.0</td>\n",
       "      <td>0.0</td>\n",
       "    </tr>\n",
       "    <tr>\n",
       "      <th>131283</th>\n",
       "      <td>31/1/2007</td>\n",
       "      <td>07:24:00</td>\n",
       "      <td>0.706</td>\n",
       "      <td>0.134</td>\n",
       "      <td>240.60</td>\n",
       "      <td>3.0</td>\n",
       "      <td>0.0</td>\n",
       "      <td>0.0</td>\n",
       "      <td>0.0</td>\n",
       "    </tr>\n",
       "    <tr>\n",
       "      <th>131284</th>\n",
       "      <td>31/1/2007</td>\n",
       "      <td>07:25:00</td>\n",
       "      <td>0.698</td>\n",
       "      <td>0.122</td>\n",
       "      <td>241.60</td>\n",
       "      <td>3.0</td>\n",
       "      <td>0.0</td>\n",
       "      <td>0.0</td>\n",
       "      <td>0.0</td>\n",
       "    </tr>\n",
       "    <tr>\n",
       "      <th>131285</th>\n",
       "      <td>31/1/2007</td>\n",
       "      <td>07:26:00</td>\n",
       "      <td>0.638</td>\n",
       "      <td>0.000</td>\n",
       "      <td>241.46</td>\n",
       "      <td>2.6</td>\n",
       "      <td>0.0</td>\n",
       "      <td>0.0</td>\n",
       "      <td>0.0</td>\n",
       "    </tr>\n",
       "  </tbody>\n",
       "</table>\n",
       "<p>131286 rows × 9 columns</p>\n",
       "</div>"
      ],
      "text/plain": [
       "              Date      Time  Global_active_power  Global_reactive_power  \\\n",
       "0       16/12/2006  17:24:00                4.216                  0.418   \n",
       "1       16/12/2006  17:25:00                5.360                  0.436   \n",
       "2       16/12/2006  17:26:00                5.374                  0.498   \n",
       "3       16/12/2006  17:27:00                5.388                  0.502   \n",
       "4       16/12/2006  17:28:00                3.666                  0.528   \n",
       "...            ...       ...                  ...                    ...   \n",
       "131281   31/1/2007  07:22:00                0.700                  0.136   \n",
       "131282   31/1/2007  07:23:00                0.698                  0.134   \n",
       "131283   31/1/2007  07:24:00                0.706                  0.134   \n",
       "131284   31/1/2007  07:25:00                0.698                  0.122   \n",
       "131285   31/1/2007  07:26:00                0.638                  0.000   \n",
       "\n",
       "        Voltage  Global_intensity  Sub_metering_1  Sub_metering_2  \\\n",
       "0        234.84              18.4             0.0             1.0   \n",
       "1        233.63              23.0             0.0             1.0   \n",
       "2        233.29              23.0             0.0             2.0   \n",
       "3        233.74              23.0             0.0             1.0   \n",
       "4        235.68              15.8             0.0             1.0   \n",
       "...         ...               ...             ...             ...   \n",
       "131281   240.84               3.0             0.0             0.0   \n",
       "131282   240.81               3.0             0.0             0.0   \n",
       "131283   240.60               3.0             0.0             0.0   \n",
       "131284   241.60               3.0             0.0             0.0   \n",
       "131285   241.46               2.6             0.0             0.0   \n",
       "\n",
       "        Sub_metering_3  \n",
       "0                 17.0  \n",
       "1                 16.0  \n",
       "2                 17.0  \n",
       "3                 17.0  \n",
       "4                 17.0  \n",
       "...                ...  \n",
       "131281             0.0  \n",
       "131282             0.0  \n",
       "131283             0.0  \n",
       "131284             0.0  \n",
       "131285             0.0  \n",
       "\n",
       "[131286 rows x 9 columns]"
      ]
     },
     "execution_count": 5,
     "metadata": {},
     "output_type": "execute_result"
    }
   ],
   "source": [
    "# main analysis\n",
    "load_power_data()"
   ]
  },
  {
   "cell_type": "code",
   "execution_count": 6,
   "id": "447381ad-d768-452a-9d0d-3f6d249ef91b",
   "metadata": {},
   "outputs": [
    {
     "data": {
      "text/plain": [
       "(131286, 9)"
      ]
     },
     "execution_count": 6,
     "metadata": {},
     "output_type": "execute_result"
    }
   ],
   "source": [
    "# 1. Delete specified columns\n",
    "df = load_power_data()\n",
    "df.shape"
   ]
  },
  {
   "cell_type": "code",
   "execution_count": 7,
   "id": "455394b0-915d-4468-ac7d-58d023a8c004",
   "metadata": {},
   "outputs": [
    {
     "data": {
      "text/html": [
       "<div>\n",
       "<style scoped>\n",
       "    .dataframe tbody tr th:only-of-type {\n",
       "        vertical-align: middle;\n",
       "    }\n",
       "\n",
       "    .dataframe tbody tr th {\n",
       "        vertical-align: top;\n",
       "    }\n",
       "\n",
       "    .dataframe thead th {\n",
       "        text-align: right;\n",
       "    }\n",
       "</style>\n",
       "<table border=\"1\" class=\"dataframe\">\n",
       "  <thead>\n",
       "    <tr style=\"text-align: right;\">\n",
       "      <th></th>\n",
       "      <th>Date</th>\n",
       "      <th>Global_active_power</th>\n",
       "      <th>Global_reactive_power</th>\n",
       "      <th>Voltage</th>\n",
       "      <th>Global_intensity</th>\n",
       "      <th>Sub_metering_1</th>\n",
       "    </tr>\n",
       "  </thead>\n",
       "  <tbody>\n",
       "    <tr>\n",
       "      <th>0</th>\n",
       "      <td>16/12/2006</td>\n",
       "      <td>4.216</td>\n",
       "      <td>0.418</td>\n",
       "      <td>234.84</td>\n",
       "      <td>18.4</td>\n",
       "      <td>0.0</td>\n",
       "    </tr>\n",
       "    <tr>\n",
       "      <th>1</th>\n",
       "      <td>16/12/2006</td>\n",
       "      <td>5.360</td>\n",
       "      <td>0.436</td>\n",
       "      <td>233.63</td>\n",
       "      <td>23.0</td>\n",
       "      <td>0.0</td>\n",
       "    </tr>\n",
       "    <tr>\n",
       "      <th>2</th>\n",
       "      <td>16/12/2006</td>\n",
       "      <td>5.374</td>\n",
       "      <td>0.498</td>\n",
       "      <td>233.29</td>\n",
       "      <td>23.0</td>\n",
       "      <td>0.0</td>\n",
       "    </tr>\n",
       "    <tr>\n",
       "      <th>3</th>\n",
       "      <td>16/12/2006</td>\n",
       "      <td>5.388</td>\n",
       "      <td>0.502</td>\n",
       "      <td>233.74</td>\n",
       "      <td>23.0</td>\n",
       "      <td>0.0</td>\n",
       "    </tr>\n",
       "    <tr>\n",
       "      <th>4</th>\n",
       "      <td>16/12/2006</td>\n",
       "      <td>3.666</td>\n",
       "      <td>0.528</td>\n",
       "      <td>235.68</td>\n",
       "      <td>15.8</td>\n",
       "      <td>0.0</td>\n",
       "    </tr>\n",
       "    <tr>\n",
       "      <th>...</th>\n",
       "      <td>...</td>\n",
       "      <td>...</td>\n",
       "      <td>...</td>\n",
       "      <td>...</td>\n",
       "      <td>...</td>\n",
       "      <td>...</td>\n",
       "    </tr>\n",
       "    <tr>\n",
       "      <th>131281</th>\n",
       "      <td>31/1/2007</td>\n",
       "      <td>0.700</td>\n",
       "      <td>0.136</td>\n",
       "      <td>240.84</td>\n",
       "      <td>3.0</td>\n",
       "      <td>0.0</td>\n",
       "    </tr>\n",
       "    <tr>\n",
       "      <th>131282</th>\n",
       "      <td>31/1/2007</td>\n",
       "      <td>0.698</td>\n",
       "      <td>0.134</td>\n",
       "      <td>240.81</td>\n",
       "      <td>3.0</td>\n",
       "      <td>0.0</td>\n",
       "    </tr>\n",
       "    <tr>\n",
       "      <th>131283</th>\n",
       "      <td>31/1/2007</td>\n",
       "      <td>0.706</td>\n",
       "      <td>0.134</td>\n",
       "      <td>240.60</td>\n",
       "      <td>3.0</td>\n",
       "      <td>0.0</td>\n",
       "    </tr>\n",
       "    <tr>\n",
       "      <th>131284</th>\n",
       "      <td>31/1/2007</td>\n",
       "      <td>0.698</td>\n",
       "      <td>0.122</td>\n",
       "      <td>241.60</td>\n",
       "      <td>3.0</td>\n",
       "      <td>0.0</td>\n",
       "    </tr>\n",
       "    <tr>\n",
       "      <th>131285</th>\n",
       "      <td>31/1/2007</td>\n",
       "      <td>0.638</td>\n",
       "      <td>0.000</td>\n",
       "      <td>241.46</td>\n",
       "      <td>2.6</td>\n",
       "      <td>0.0</td>\n",
       "    </tr>\n",
       "  </tbody>\n",
       "</table>\n",
       "<p>131286 rows × 6 columns</p>\n",
       "</div>"
      ],
      "text/plain": [
       "              Date  Global_active_power  Global_reactive_power  Voltage  \\\n",
       "0       16/12/2006                4.216                  0.418   234.84   \n",
       "1       16/12/2006                5.360                  0.436   233.63   \n",
       "2       16/12/2006                5.374                  0.498   233.29   \n",
       "3       16/12/2006                5.388                  0.502   233.74   \n",
       "4       16/12/2006                3.666                  0.528   235.68   \n",
       "...            ...                  ...                    ...      ...   \n",
       "131281   31/1/2007                0.700                  0.136   240.84   \n",
       "131282   31/1/2007                0.698                  0.134   240.81   \n",
       "131283   31/1/2007                0.706                  0.134   240.60   \n",
       "131284   31/1/2007                0.698                  0.122   241.60   \n",
       "131285   31/1/2007                0.638                  0.000   241.46   \n",
       "\n",
       "        Global_intensity  Sub_metering_1  \n",
       "0                   18.4             0.0  \n",
       "1                   23.0             0.0  \n",
       "2                   23.0             0.0  \n",
       "3                   23.0             0.0  \n",
       "4                   15.8             0.0  \n",
       "...                  ...             ...  \n",
       "131281               3.0             0.0  \n",
       "131282               3.0             0.0  \n",
       "131283               3.0             0.0  \n",
       "131284               3.0             0.0  \n",
       "131285               2.6             0.0  \n",
       "\n",
       "[131286 rows x 6 columns]"
      ]
     },
     "execution_count": 7,
     "metadata": {},
     "output_type": "execute_result"
    }
   ],
   "source": [
    "df = df.drop(['Time', 'Sub_metering_2', 'Sub_metering_3'], axis=1, errors='ignore')\n",
    "df.shape\n",
    "df"
   ]
  },
  {
   "cell_type": "code",
   "execution_count": 8,
   "id": "92b1f452-7eaa-44a3-8d6e-db98344866ba",
   "metadata": {},
   "outputs": [],
   "source": [
    "# 2. Set Date as index\n",
    "df['Date'] = pd.to_datetime(df['Date'], format='%d/%m/%Y')\n",
    "df.set_index('Date', inplace=True)"
   ]
  },
  {
   "cell_type": "code",
   "execution_count": 9,
   "id": "12122e14-3765-4308-a8a5-86b5c66ca627",
   "metadata": {},
   "outputs": [
    {
     "name": "stdout",
     "output_type": "stream",
     "text": [
      "DatetimeIndex(['2006-12-16', '2006-12-16', '2006-12-16', '2006-12-16',\n",
      "               '2006-12-16'],\n",
      "              dtype='datetime64[ns]', name='Date', freq=None)\n"
     ]
    }
   ],
   "source": [
    "print(df.head().index)"
   ]
  },
  {
   "cell_type": "code",
   "execution_count": 14,
   "id": "b132a390-ad61-40e9-8a78-3a31203f1512",
   "metadata": {},
   "outputs": [
    {
     "name": "stdout",
     "output_type": "stream",
     "text": [
      "Global_active_power      float64\n",
      "Global_reactive_power    float64\n",
      "Voltage                  float64\n",
      "Global_intensity         float64\n",
      "Sub_metering_1           float64\n",
      "dtype: object\n"
     ]
    }
   ],
   "source": [
    "print(df.dtypes)"
   ]
  },
  {
   "cell_type": "code",
   "execution_count": 15,
   "id": "387a40b9-84bb-46c8-b707-01acf4327175",
   "metadata": {},
   "outputs": [],
   "source": [
    " # Question 3: Update types to float64 using pd.to_numeric\n",
    "numeric_columns = ['Global_active_power', 'Global_reactive_power', \n",
    "                      'Voltage', 'Global_intensity', 'Sub_metering_1']\n",
    "    \n",
    "for col in numeric_columns:\n",
    "    df[col] = pd.to_numeric(df[col], errors='coerce')"
   ]
  },
  {
   "cell_type": "code",
   "execution_count": 16,
   "id": "0b5de68d-66a3-4f2f-8009-33de246a8144",
   "metadata": {},
   "outputs": [
    {
     "name": "stdout",
     "output_type": "stream",
     "text": [
      "Global_active_power      float64\n",
      "Global_reactive_power    float64\n",
      "Voltage                  float64\n",
      "Global_intensity         float64\n",
      "Sub_metering_1           float64\n",
      "dtype: object\n"
     ]
    }
   ],
   "source": [
    "print(df.dtypes)"
   ]
  },
  {
   "cell_type": "code",
   "execution_count": 25,
   "id": "c5adf522-feda-4e6f-9b23-7e6ee84dc087",
   "metadata": {},
   "outputs": [
    {
     "name": "stdout",
     "output_type": "stream",
     "text": [
      "4. Dataset overview using describe():\n",
      "       Global_active_power  Global_reactive_power        Voltage  \\\n",
      "count        131274.000000          131274.000000  131274.000000   \n",
      "mean              1.655605               0.132055     241.117835   \n",
      "std               1.345984               0.118481       3.624177   \n",
      "min               0.194000               0.000000     224.680000   \n",
      "25%               0.394000               0.000000     238.670000   \n",
      "50%               1.424000               0.122000     241.420000   \n",
      "75%               2.428000               0.198000     243.730000   \n",
      "max               9.272000               0.874000     251.700000   \n",
      "\n",
      "       Global_intensity  Sub_metering_1  \n",
      "count     131274.000000   131274.000000  \n",
      "mean           7.004540        1.278136  \n",
      "std            5.673416        6.655215  \n",
      "min            0.800000        0.000000  \n",
      "25%            1.800000        0.000000  \n",
      "50%            6.000000        0.000000  \n",
      "75%           10.000000        0.000000  \n",
      "max           40.400000       77.000000  \n",
      "\n"
     ]
    }
   ],
   "source": [
    "# Question 4: Use describe for overview\n",
    "print(\"4. Dataset overview using describe():\")\n",
    "print(df.describe())\n",
    "print()"
   ]
  },
  {
   "cell_type": "code",
   "execution_count": 32,
   "id": "2349c5bc-7ee6-432b-9e5e-912dc4ba3ada",
   "metadata": {},
   "outputs": [
    {
     "ename": "AssertionError",
     "evalue": "",
     "output_type": "error",
     "traceback": [
      "\u001b[31m---------------------------------------------------------------------------\u001b[39m",
      "\u001b[31mAssertionError\u001b[39m                            Traceback (most recent call last)",
      "\u001b[36mCell\u001b[39m\u001b[36m \u001b[39m\u001b[32mIn[32]\u001b[39m\u001b[32m, line 3\u001b[39m\n\u001b[32m      1\u001b[39m \u001b[38;5;66;03m# Question 5: Delete rows with missing values\u001b[39;00m\n\u001b[32m      2\u001b[39m \u001b[38;5;66;03m# Confirm presence of missing values\u001b[39;00m\n\u001b[32m----> \u001b[39m\u001b[32m3\u001b[39m \u001b[38;5;28;01massert\u001b[39;00m df.isna().sum().sum() != \u001b[32m0\u001b[39m\n",
      "\u001b[31mAssertionError\u001b[39m: "
     ]
    }
   ],
   "source": [
    "# Question 5: Delete rows with missing values\n",
    "# Confirm presence of missing values\n",
    "assert df.isna().sum().sum() != 0"
   ]
  },
  {
   "cell_type": "code",
   "execution_count": 28,
   "id": "4849cad3-cd62-45e9-af08-d4242d69676b",
   "metadata": {},
   "outputs": [],
   "source": [
    "df.dropna(inplace=True)"
   ]
  },
  {
   "cell_type": "code",
   "execution_count": 31,
   "id": "cba5472d-e6f1-41f1-8395-1a592abb1899",
   "metadata": {},
   "outputs": [
    {
     "data": {
      "text/plain": [
       "Global_active_power      0\n",
       "Global_reactive_power    0\n",
       "Voltage                  0\n",
       "Global_intensity         0\n",
       "Sub_metering_1           0\n",
       "dtype: int64"
      ]
     },
     "execution_count": 31,
     "metadata": {},
     "output_type": "execute_result"
    }
   ],
   "source": [
    "# Confirm no presence of missing values\n",
    "df.isna().sum()"
   ]
  },
  {
   "cell_type": "code",
   "execution_count": null,
   "id": "2f7479de-61ef-4cd5-ad81-088b585e1d59",
   "metadata": {},
   "outputs": [],
   "source": []
  }
 ],
 "metadata": {
  "kernelspec": {
   "display_name": "Python 3 (ipykernel)",
   "language": "python",
   "name": "python3"
  },
  "language_info": {
   "codemirror_mode": {
    "name": "ipython",
    "version": 3
   },
   "file_extension": ".py",
   "mimetype": "text/x-python",
   "name": "python",
   "nbconvert_exporter": "python",
   "pygments_lexer": "ipython3",
   "version": "3.12.11"
  }
 },
 "nbformat": 4,
 "nbformat_minor": 5
}
