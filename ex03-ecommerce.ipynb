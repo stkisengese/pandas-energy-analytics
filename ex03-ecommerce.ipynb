{
 "cells": [
  {
   "cell_type": "code",
   "execution_count": 1,
   "id": "76b79946-4275-4548-a61e-dfd9d56237ae",
   "metadata": {},
   "outputs": [],
   "source": [
    "# Exercise 3: E-Commerce Purchases"
   ]
  },
  {
   "cell_type": "code",
   "execution_count": 2,
   "id": "d01bf954-6da0-4c21-8774-09279e1f677d",
   "metadata": {},
   "outputs": [],
   "source": [
    "import pandas as pd"
   ]
  },
  {
   "cell_type": "code",
   "execution_count": 3,
   "id": "28f732ef-fc32-4dd5-a611-00c906abdf6c",
   "metadata": {},
   "outputs": [],
   "source": [
    "# Load the data set\n",
    "df = pd.read_csv(\"Ecommerce_purchases.txt\")\n",
    "\n",
    "# Q1: How many rows and columns are there?\n",
    "df.shape #(rows, cols)"
   ]
  },
  {
   "cell_type": "code",
   "execution_count": 5,
   "id": "6f61ac56-d2d8-471a-8a8d-94b0b6d0e3c5",
   "metadata": {},
   "outputs": [],
   "source": [
    "# Q2: Average Purchase Price\n",
    "df[\"Purchase Price\"].mean()"
   ]
  },
  {
   "cell_type": "code",
   "execution_count": null,
   "id": "251ccf7f-bcd9-464c-8061-f89720587076",
   "metadata": {},
   "outputs": [],
   "source": [
    "# Q3: Highest and the lowest purchase prices\n",
    "df[\"Purchase Price\"].max()\n",
    "df[\"Purchase Price\"].min()"
   ]
  },
  {
   "cell_type": "code",
   "execution_count": 6,
   "id": "ef53d615-0dba-4aa5-a903-3dbd1cab404c",
   "metadata": {},
   "outputs": [],
   "source": [
    "# Q4: Count for English 'en' as language of choice\n",
    "df[df[\"Language\"] == \"en\"].shape[0]"
   ]
  },
  {
   "cell_type": "code",
   "execution_count": null,
   "id": "a56dc345-7d9d-463a-b20a-f91abae42e65",
   "metadata": {},
   "outputs": [],
   "source": [
    "# Q5: Count for people with \"lawyer\" as job title\n",
    "df[df[\"Job\"] == \"Lawyer\"].shape[0]"
   ]
  },
  {
   "cell_type": "code",
   "execution_count": null,
   "id": "8eb22137-5bd8-41ff-82ef-d919a46e213e",
   "metadata": {},
   "outputs": [],
   "source": []
  },
  {
   "cell_type": "code",
   "execution_count": null,
   "id": "4539b019-08a5-4c80-8450-328e72820154",
   "metadata": {},
   "outputs": [],
   "source": []
  }
 ],
 "metadata": {
  "kernelspec": {
   "display_name": "Python 3 (ipykernel)",
   "language": "python",
   "name": "python3"
  },
  "language_info": {
   "codemirror_mode": {
    "name": "ipython",
    "version": 3
   },
   "file_extension": ".py",
   "mimetype": "text/x-python",
   "name": "python",
   "nbconvert_exporter": "python",
   "pygments_lexer": "ipython3",
   "version": "3.12.11"
  }
 },
 "nbformat": 4,
 "nbformat_minor": 5
}
