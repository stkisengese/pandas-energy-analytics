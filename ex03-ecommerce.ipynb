{
 "cells": [
  {
   "cell_type": "code",
   "execution_count": 1,
   "id": "76b79946-4275-4548-a61e-dfd9d56237ae",
   "metadata": {},
   "outputs": [],
   "source": [
    "# Exercise 3: E-Commerce Purchases"
   ]
  },
  {
   "cell_type": "code",
   "execution_count": 8,
   "id": "d01bf954-6da0-4c21-8774-09279e1f677d",
   "metadata": {},
   "outputs": [],
   "source": [
    "import pandas as pd"
   ]
  },
  {
   "cell_type": "code",
   "execution_count": 9,
   "id": "28f732ef-fc32-4dd5-a611-00c906abdf6c",
   "metadata": {},
   "outputs": [
    {
     "data": {
      "text/plain": [
       "(10000, 14)"
      ]
     },
     "execution_count": 9,
     "metadata": {},
     "output_type": "execute_result"
    }
   ],
   "source": [
    "# Load the data set\n",
    "df = pd.read_csv(\"Ecommerce_purchases.txt\")\n",
    "\n",
    "# Q1: How many rows and columns are there?\n",
    "df.shape #(rows, cols)"
   ]
  },
  {
   "cell_type": "code",
   "execution_count": 11,
   "id": "6f61ac56-d2d8-471a-8a8d-94b0b6d0e3c5",
   "metadata": {},
   "outputs": [
    {
     "name": "stdout",
     "output_type": "stream",
     "text": [
      "Average purchase price:  50.347302\n"
     ]
    }
   ],
   "source": [
    "# Q2: Average Purchase Price\n",
    "df_mean = df[\"Purchase Price\"].mean()\n",
    "print(\"Average purchase price: \", df_mean)"
   ]
  },
  {
   "cell_type": "code",
   "execution_count": 19,
   "id": "251ccf7f-bcd9-464c-8061-f89720587076",
   "metadata": {},
   "outputs": [
    {
     "data": {
      "text/plain": [
       "(np.float64(99.99), np.float64(0.0))"
      ]
     },
     "execution_count": 19,
     "metadata": {},
     "output_type": "execute_result"
    }
   ],
   "source": [
    "# Q3: Highest and the lowest purchase prices\n",
    "df_max = df[\"Purchase Price\"].max()\n",
    "df_min = df[\"Purchase Price\"].min()\n",
    "df_max, df_min"
   ]
  },
  {
   "cell_type": "code",
   "execution_count": 21,
   "id": "ef53d615-0dba-4aa5-a903-3dbd1cab404c",
   "metadata": {},
   "outputs": [
    {
     "data": {
      "text/plain": [
       "1098"
      ]
     },
     "execution_count": 21,
     "metadata": {},
     "output_type": "execute_result"
    }
   ],
   "source": [
    "# Q4: Count for English 'en' as language \n",
    "df[df['Language'] == 'en'].shape[0]"
   ]
  },
  {
   "cell_type": "code",
   "execution_count": 22,
   "id": "a56dc345-7d9d-463a-b20a-f91abae42e65",
   "metadata": {},
   "outputs": [
    {
     "data": {
      "text/plain": [
       "30"
      ]
     },
     "execution_count": 22,
     "metadata": {},
     "output_type": "execute_result"
    }
   ],
   "source": [
    "# Q5: Count for people with \"lawyer\" as job title\n",
    "df[df[\"Job\"] == \"Lawyer\"].shape[0]"
   ]
  },
  {
   "cell_type": "code",
   "execution_count": 23,
   "id": "8eb22137-5bd8-41ff-82ef-d919a46e213e",
   "metadata": {},
   "outputs": [
    {
     "data": {
      "text/plain": [
       "AM or PM\n",
       "PM    5068\n",
       "AM    4932\n",
       "Name: count, dtype: int64"
      ]
     },
     "execution_count": 23,
     "metadata": {},
     "output_type": "execute_result"
    }
   ],
   "source": [
    "# Q6: Number of people making purchases in AM and PM\n",
    "df[\"AM or PM\"].value_counts()"
   ]
  },
  {
   "cell_type": "code",
   "execution_count": 24,
   "id": "4539b019-08a5-4c80-8450-328e72820154",
   "metadata": {},
   "outputs": [
    {
     "data": {
      "text/plain": [
       "Job\n",
       "Interior and spatial designer        31\n",
       "Lawyer                               30\n",
       "Social researcher                    28\n",
       "Research officer, political party    27\n",
       "Designer, jewellery                  27\n",
       "Name: count, dtype: int64"
      ]
     },
     "execution_count": 24,
     "metadata": {},
     "output_type": "execute_result"
    }
   ],
   "source": [
    "# Q7: List 5 most common job titles\n",
    "df[\"Job\"].value_counts().head(5)"
   ]
  },
  {
   "cell_type": "code",
   "execution_count": 25,
   "id": "5634f05c-a39b-48d1-bc90-1f65c0eb0d20",
   "metadata": {},
   "outputs": [
    {
     "data": {
      "text/plain": [
       "513    75.1\n",
       "Name: Purchase Price, dtype: float64"
      ]
     },
     "execution_count": 25,
     "metadata": {},
     "output_type": "execute_result"
    }
   ],
   "source": [
    "# Q8: Purchase price for Lot: \"90 WT\"\n",
    "df[df[\"Lot\"] == \"90 WT\"][\"Purchase Price\"]"
   ]
  },
  {
   "cell_type": "code",
   "execution_count": 26,
   "id": "c68a740b-ba43-4d00-acd8-3668dd2b5e56",
   "metadata": {},
   "outputs": [
    {
     "data": {
      "text/plain": [
       "1234    bondellen@williams-garza.com\n",
       "Name: Email, dtype: object"
      ]
     },
     "execution_count": 26,
     "metadata": {},
     "output_type": "execute_result"
    }
   ],
   "source": [
    "## Q9: the email of the person with Credit Card Number: 4926535242672853\n",
    "df[df[\"Credit Card\"] == 4926535242672853][\"Email\"]"
   ]
  },
  {
   "cell_type": "code",
   "execution_count": 27,
   "id": "f32a4bc2-4d07-41e2-baee-2c162fdf7765",
   "metadata": {},
   "outputs": [
    {
     "data": {
      "text/plain": [
       "39"
      ]
     },
     "execution_count": 27,
     "metadata": {},
     "output_type": "execute_result"
    }
   ],
   "source": [
    "## Q10: Number of  people have American Express as their Credit Card Provider and \n",
    "## made a purchase above $95\n",
    "df[(df[\"CC Provider\"] == \"American Express\") & (df[\"Purchase Price\"] > 95)].shape[0]"
   ]
  },
  {
   "cell_type": "code",
   "execution_count": 30,
   "id": "9c2fcd54-d048-4912-bfb3-b30b2853622c",
   "metadata": {},
   "outputs": [
    {
     "data": {
      "text/plain": [
       "np.int64(1033)"
      ]
     },
     "execution_count": 30,
     "metadata": {},
     "output_type": "execute_result"
    }
   ],
   "source": [
    "## Q11: Number of people with credit card that expires in 2025\n",
    "df['CC Exp Date'].apply(lambda x: x.split('/')[1]) \\\n",
    "   .value_counts()['25']"
   ]
  },
  {
   "cell_type": "code",
   "execution_count": 31,
   "id": "459e4eea-2c6d-437f-8230-19e0f6984f89",
   "metadata": {},
   "outputs": [
    {
     "data": {
      "text/plain": [
       "Email\n",
       "hotmail.com     1638\n",
       "yahoo.com       1616\n",
       "gmail.com       1605\n",
       "smith.com         42\n",
       "williams.com      37\n",
       "Name: count, dtype: int64"
      ]
     },
     "execution_count": 31,
     "metadata": {},
     "output_type": "execute_result"
    }
   ],
   "source": [
    "## Q12: Top 5 most popular email providers/hosts\n",
    "df[\"Email\"].apply(lambda x: x.split(\"@\")[1]).value_counts().head(5)"
   ]
  },
  {
   "cell_type": "code",
   "execution_count": null,
   "id": "31977afd-cad7-4d9e-be56-fdfcb885b2bd",
   "metadata": {},
   "outputs": [],
   "source": []
  }
 ],
 "metadata": {
  "kernelspec": {
   "display_name": "Python 3 (ipykernel)",
   "language": "python",
   "name": "python3"
  },
  "language_info": {
   "codemirror_mode": {
    "name": "ipython",
    "version": 3
   },
   "file_extension": ".py",
   "mimetype": "text/x-python",
   "name": "python",
   "nbconvert_exporter": "python",
   "pygments_lexer": "ipython3",
   "version": "3.12.11"
  }
 },
 "nbformat": 4,
 "nbformat_minor": 5
}
